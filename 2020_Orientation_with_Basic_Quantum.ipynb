{
 "cells": [
  {
   "cell_type": "markdown",
   "metadata": {},
   "source": [
    "Use numpy to create an array of 100 x-values between 0 and $L$, where $L$ is defined to be 10 (in atomic units).  Call this array $x$."
   ]
  },
  {
   "cell_type": "code",
   "execution_count": 1,
   "metadata": {},
   "outputs": [
    {
     "name": "stdout",
     "output_type": "stream",
     "text": [
      "[ 0.          0.1010101   0.2020202   0.3030303   0.4040404   0.50505051\n",
      "  0.60606061  0.70707071  0.80808081  0.90909091  1.01010101  1.11111111\n",
      "  1.21212121  1.31313131  1.41414141  1.51515152  1.61616162  1.71717172\n",
      "  1.81818182  1.91919192  2.02020202  2.12121212  2.22222222  2.32323232\n",
      "  2.42424242  2.52525253  2.62626263  2.72727273  2.82828283  2.92929293\n",
      "  3.03030303  3.13131313  3.23232323  3.33333333  3.43434343  3.53535354\n",
      "  3.63636364  3.73737374  3.83838384  3.93939394  4.04040404  4.14141414\n",
      "  4.24242424  4.34343434  4.44444444  4.54545455  4.64646465  4.74747475\n",
      "  4.84848485  4.94949495  5.05050505  5.15151515  5.25252525  5.35353535\n",
      "  5.45454545  5.55555556  5.65656566  5.75757576  5.85858586  5.95959596\n",
      "  6.06060606  6.16161616  6.26262626  6.36363636  6.46464646  6.56565657\n",
      "  6.66666667  6.76767677  6.86868687  6.96969697  7.07070707  7.17171717\n",
      "  7.27272727  7.37373737  7.47474747  7.57575758  7.67676768  7.77777778\n",
      "  7.87878788  7.97979798  8.08080808  8.18181818  8.28282828  8.38383838\n",
      "  8.48484848  8.58585859  8.68686869  8.78787879  8.88888889  8.98989899\n",
      "  9.09090909  9.19191919  9.29292929  9.39393939  9.49494949  9.5959596\n",
      "  9.6969697   9.7979798   9.8989899  10.        ]\n"
     ]
    }
   ],
   "source": [
    "import numpy as np\n",
    "L = 10\n",
    "x = np.linspace(0, L, 100)\n",
    "print(x)"
   ]
  },
  {
   "cell_type": "markdown",
   "metadata": {},
   "source": [
    "Use the built-in numpy functions `np.sqrt()` and `np.sin()`, along with the built-in constant `np.pi`, to create an array of ground-state wavefunction values for the particle-in-a-box of length $L=10$ atomic units,\n",
    "\\begin{equation}\n",
    "\\psi_1(x) = \\sqrt{\\frac{2}{L}} {\\rm sin}\\left(\\frac{ \\pi x}{L}\\right).\n",
    "\\end{equation}\n",
    "Call this array psi_x"
   ]
  },
  {
   "cell_type": "code",
   "execution_count": 30,
   "metadata": {},
   "outputs": [
    {
     "name": "stdout",
     "output_type": "stream",
     "text": [
      "[0.00000000e+00 1.41891632e-02 2.83640392e-02 4.25103549e-02\n",
      " 5.66138663e-02 7.06603724e-02 8.46357294e-02 9.85258655e-02\n",
      " 1.12316794e-01 1.25994630e-01 1.39545599e-01 1.52956058e-01\n",
      " 1.66212503e-01 1.79301586e-01 1.92210128e-01 2.04925130e-01\n",
      " 2.17433790e-01 2.29723513e-01 2.41781924e-01 2.53596881e-01\n",
      " 2.65156487e-01 2.76449103e-01 2.87463358e-01 2.98188162e-01\n",
      " 3.08612716e-01 3.18726523e-01 3.28519399e-01 3.37981484e-01\n",
      " 3.47103251e-01 3.55875514e-01 3.64289440e-01 3.72336558e-01\n",
      " 3.80008765e-01 3.87298335e-01 3.94197928e-01 4.00700597e-01\n",
      " 4.06799795e-01 4.12489380e-01 4.17763623e-01 4.22617214e-01\n",
      " 4.27045265e-01 4.31043317e-01 4.34607346e-01 4.37733761e-01\n",
      " 4.40419416e-01 4.42661606e-01 4.44458073e-01 4.45807009e-01\n",
      " 4.46707054e-01 4.47157304e-01 4.47157304e-01 4.46707054e-01\n",
      " 4.45807009e-01 4.44458073e-01 4.42661606e-01 4.40419416e-01\n",
      " 4.37733761e-01 4.34607346e-01 4.31043317e-01 4.27045265e-01\n",
      " 4.22617214e-01 4.17763623e-01 4.12489380e-01 4.06799795e-01\n",
      " 4.00700597e-01 3.94197928e-01 3.87298335e-01 3.80008765e-01\n",
      " 3.72336558e-01 3.64289440e-01 3.55875514e-01 3.47103251e-01\n",
      " 3.37981484e-01 3.28519399e-01 3.18726523e-01 3.08612716e-01\n",
      " 2.98188162e-01 2.87463358e-01 2.76449103e-01 2.65156487e-01\n",
      " 2.53596881e-01 2.41781924e-01 2.29723513e-01 2.17433790e-01\n",
      " 2.04925130e-01 1.92210128e-01 1.79301586e-01 1.66212503e-01\n",
      " 1.52956058e-01 1.39545599e-01 1.25994630e-01 1.12316794e-01\n",
      " 9.85258655e-02 8.46357294e-02 7.06603724e-02 5.66138663e-02\n",
      " 4.25103549e-02 2.83640392e-02 1.41891632e-02 5.47678698e-17]\n"
     ]
    }
   ],
   "source": [
    "psi_x = np.sqrt(2/L) * np.sin(np.pi * x/L)\n",
    "print(psi_x)"
   ]
  },
  {
   "cell_type": "markdown",
   "metadata": {},
   "source": [
    "Use the plotting capabilities of the library matplotlib to plot $\\psi_1(x)$ vs $x$."
   ]
  },
  {
   "cell_type": "code",
   "execution_count": 31,
   "metadata": {},
   "outputs": [
    {
     "ename": "AttributeError",
     "evalue": "module 'matplotlib.pyplot' has no attribute 'xlable'",
     "output_type": "error",
     "traceback": [
      "\u001b[1;31m---------------------------------------------------------------------------\u001b[0m",
      "\u001b[1;31mAttributeError\u001b[0m                            Traceback (most recent call last)",
      "\u001b[1;32m<ipython-input-31-dfc0d71dd57a>\u001b[0m in \u001b[0;36m<module>\u001b[1;34m\u001b[0m\n\u001b[0;32m      5\u001b[0m \u001b[1;31m### the array that contains your y-values.\u001b[0m\u001b[1;33m\u001b[0m\u001b[1;33m\u001b[0m\u001b[1;33m\u001b[0m\u001b[0m\n\u001b[0;32m      6\u001b[0m \u001b[0mplt\u001b[0m\u001b[1;33m.\u001b[0m\u001b[0mplot\u001b[0m\u001b[1;33m(\u001b[0m\u001b[0mx\u001b[0m\u001b[1;33m,\u001b[0m \u001b[0mpsi_x\u001b[0m\u001b[1;33m,\u001b[0m \u001b[1;34m'red'\u001b[0m \u001b[1;33m,\u001b[0m \u001b[0mlabel\u001b[0m\u001b[1;33m=\u001b[0m\u001b[1;34m'First excited state'\u001b[0m\u001b[1;33m)\u001b[0m\u001b[1;33m\u001b[0m\u001b[1;33m\u001b[0m\u001b[0m\n\u001b[1;32m----> 7\u001b[1;33m \u001b[0mplt\u001b[0m\u001b[1;33m.\u001b[0m\u001b[0mxlable\u001b[0m \u001b[1;33m(\u001b[0m\u001b[1;34m\"position (atomic units)\"\u001b[0m\u001b[1;33m)\u001b[0m\u001b[1;33m\u001b[0m\u001b[1;33m\u001b[0m\u001b[0m\n\u001b[0m\u001b[0;32m      8\u001b[0m \u001b[0mplt\u001b[0m\u001b[1;33m.\u001b[0m\u001b[0mlegend\u001b[0m\u001b[1;33m(\u001b[0m\u001b[1;33m)\u001b[0m\u001b[1;33m\u001b[0m\u001b[1;33m\u001b[0m\u001b[0m\n\u001b[0;32m      9\u001b[0m \u001b[0mplt\u001b[0m\u001b[1;33m.\u001b[0m\u001b[0mxlim\u001b[0m\u001b[1;33m(\u001b[0m\u001b[1;36m0\u001b[0m\u001b[1;33m,\u001b[0m\u001b[0mL\u001b[0m\u001b[1;33m)\u001b[0m\u001b[1;33m\u001b[0m\u001b[1;33m\u001b[0m\u001b[0m\n",
      "\u001b[1;31mAttributeError\u001b[0m: module 'matplotlib.pyplot' has no attribute 'xlable'"
     ]
    },
    {
     "data": {
      "image/png": "[encoded data removed]",
      "text/plain": [
       "<Figure size 432x288 with 1 Axes>"
      ]
     },
     "metadata": {
      "needs_background": "light"
     },
     "output_type": "display_data"
    }
   ],
   "source": [
    "from matplotlib import pyplot as plt\n",
    "\n",
    "### create plot object by issuing the command plt.plot(x_data, y_data) w\n",
    "### where x_data is the name of the array that contains your x-values and y_data is the name of\n",
    "### the array that contains your y-values.\n",
    "plt.plot(x, psi_x, 'red' , label='First excited state')\n",
    "plt.xlable (\"position (atomic units)\")\n",
    "plt.legend()\n",
    "plt.xlim(0,L)\n",
    "plt.show()\n",
    "\n"
   ]
  },
  {
   "cell_type": "markdown",
   "metadata": {},
   "source": [
    "Evaluate (by hand)\n",
    "\\begin{equation}\n",
    "\\hat{H} \\psi_1(x)\n",
    "\\end{equation}\n",
    "where in atomic units,\n",
    "\\begin{equation}\n",
    "\\hat{H} = \\frac{-1}{2} \\frac{d^2}{dx^2}.\n",
    "\\end{equation}\n",
    "\n",
    "You should obtain as a result $E_1 \\psi_1(x)$.  Plot both \n",
    "$\\psi_1(x)$ against $x$ and $E_1 \\psi_1(x)$ against $x$.\n"
   ]
  },
  {
   "cell_type": "code",
   "execution_count": 34,
   "metadata": {},
   "outputs": [
    {
     "ename": "AttributeError",
     "evalue": "module 'matplotlib.pyplot' has no attribute 'xlable'",
     "output_type": "error",
     "traceback": [
      "\u001b[1;31m---------------------------------------------------------------------------\u001b[0m",
      "\u001b[1;31mAttributeError\u001b[0m                            Traceback (most recent call last)",
      "\u001b[1;32m<ipython-input-34-80b0585e8dc0>\u001b[0m in \u001b[0;36m<module>\u001b[1;34m\u001b[0m\n\u001b[0;32m      2\u001b[0m \u001b[0mplt\u001b[0m\u001b[1;33m.\u001b[0m\u001b[0mplot\u001b[0m\u001b[1;33m(\u001b[0m\u001b[0mx\u001b[0m\u001b[1;33m,\u001b[0m \u001b[0mpsi_x\u001b[0m\u001b[1;33m,\u001b[0m \u001b[1;34m'red'\u001b[0m \u001b[1;33m,\u001b[0m \u001b[0mlabel\u001b[0m\u001b[1;33m=\u001b[0m\u001b[1;34m'psi_1'\u001b[0m\u001b[1;33m)\u001b[0m\u001b[1;33m\u001b[0m\u001b[1;33m\u001b[0m\u001b[0m\n\u001b[0;32m      3\u001b[0m \u001b[0mplt\u001b[0m\u001b[1;33m.\u001b[0m\u001b[0mplot\u001b[0m\u001b[1;33m(\u001b[0m\u001b[0mx\u001b[0m\u001b[1;33m,\u001b[0m \u001b[0mH_on_psi_x\u001b[0m\u001b[1;33m,\u001b[0m \u001b[1;34m'blue'\u001b[0m\u001b[1;33m,\u001b[0m \u001b[0mlabel\u001b[0m \u001b[1;33m=\u001b[0m\u001b[1;34m'E1 psi_1'\u001b[0m\u001b[1;33m)\u001b[0m\u001b[1;33m\u001b[0m\u001b[1;33m\u001b[0m\u001b[0m\n\u001b[1;32m----> 4\u001b[1;33m \u001b[0mplt\u001b[0m\u001b[1;33m.\u001b[0m\u001b[0mxlable\u001b[0m \u001b[1;33m(\u001b[0m\u001b[1;34m\"position (atomic units)\"\u001b[0m\u001b[1;33m)\u001b[0m\u001b[1;33m\u001b[0m\u001b[1;33m\u001b[0m\u001b[0m\n\u001b[0m\u001b[0;32m      5\u001b[0m \u001b[0mplt\u001b[0m\u001b[1;33m.\u001b[0m\u001b[0mlegend\u001b[0m\u001b[1;33m(\u001b[0m\u001b[1;33m)\u001b[0m\u001b[1;33m\u001b[0m\u001b[1;33m\u001b[0m\u001b[0m\n\u001b[0;32m      6\u001b[0m \u001b[0mplt\u001b[0m\u001b[1;33m.\u001b[0m\u001b[0mxlim\u001b[0m\u001b[1;33m(\u001b[0m\u001b[1;36m0\u001b[0m\u001b[1;33m,\u001b[0m\u001b[0mL\u001b[0m\u001b[1;33m)\u001b[0m\u001b[1;33m\u001b[0m\u001b[1;33m\u001b[0m\u001b[0m\n",
      "\u001b[1;31mAttributeError\u001b[0m: module 'matplotlib.pyplot' has no attribute 'xlable'"
     ]
    },
    {
     "data": {
      "image/png": "[encoded data removed]",
      "text/plain": [
       "<Figure size 432x288 with 1 Axes>"
      ]
     },
     "metadata": {
      "needs_background": "light"
     },
     "output_type": "display_data"
    }
   ],
   "source": [
    "H_on_psi_x = np.pi**2/(2*L**2) * psi_x\n",
    "plt.plot(x, psi_x, 'red' , label='psi_1')\n",
    "plt.plot(x, H_on_psi_x, 'blue', label ='E1 psi_1')\n",
    "plt.xlable (\"position (atomic units)\")\n",
    "plt.legend()\n",
    "plt.xlim(0,L)\n",
    "plt.show()"
   ]
  },
  {
   "cell_type": "markdown",
   "metadata": {},
   "source": [
    "Now imagine that an electric potential has been applied to your box, such that the Hamiltonian operator can now be written like:\n",
    "\\begin{equation}\n",
    "\\hat{H}_p = \\frac{-1}{2} \\frac{d^2}{dx^2} + \\frac{1}{2} x.\n",
    "\\end{equation}\n",
    "Evaluate $\\hat{H}_p \\psi_1(x)$ and plot the result against $x$ so that you can compare \n",
    "the plot to both $\\psi_1(x)$ vs $x$ and $E_1 \\psi_1(x)$ vs $x$.\n",
    "\n",
    "Hint: Create a numpy array that models the electric potential\n",
    "`Vx = 1/2. * x`\n",
    "so that you can basically create an array called `Hp_on_psi` that is mathematically equal to \n",
    "\\begin{equation}\n",
    "\\hat{H}_p \\psi_1(x) = E_1 \\psi_1(x) + \\frac{1}{2}x \\psi_1(x).\n",
    "\\end{equation}"
   ]
  },
  {
   "cell_type": "code",
   "execution_count": 36,
   "metadata": {},
   "outputs": [
    {
     "ename": "AttributeError",
     "evalue": "module 'matplotlib.pyplot' has no attribute 'xlable'",
     "output_type": "error",
     "traceback": [
      "\u001b[1;31m---------------------------------------------------------------------------\u001b[0m",
      "\u001b[1;31mAttributeError\u001b[0m                            Traceback (most recent call last)",
      "\u001b[1;32m<ipython-input-36-06c6f05b1433>\u001b[0m in \u001b[0;36m<module>\u001b[1;34m\u001b[0m\n\u001b[0;32m      4\u001b[0m \u001b[0mplt\u001b[0m\u001b[1;33m.\u001b[0m\u001b[0mplot\u001b[0m\u001b[1;33m(\u001b[0m\u001b[0mx\u001b[0m\u001b[1;33m,\u001b[0m \u001b[0mpsi_x\u001b[0m\u001b[1;33m,\u001b[0m \u001b[1;34m'red'\u001b[0m \u001b[1;33m,\u001b[0m \u001b[0mlabel\u001b[0m\u001b[1;33m=\u001b[0m\u001b[1;34m'psi_1'\u001b[0m\u001b[1;33m)\u001b[0m\u001b[1;33m\u001b[0m\u001b[1;33m\u001b[0m\u001b[0m\n\u001b[0;32m      5\u001b[0m \u001b[0mplt\u001b[0m\u001b[1;33m.\u001b[0m\u001b[0mplot\u001b[0m\u001b[1;33m(\u001b[0m\u001b[0mx\u001b[0m\u001b[1;33m,\u001b[0m \u001b[0mH_on_psi_x\u001b[0m\u001b[1;33m,\u001b[0m \u001b[1;34m'blue'\u001b[0m \u001b[1;33m,\u001b[0m \u001b[0mlabel\u001b[0m\u001b[1;33m=\u001b[0m\u001b[1;34m'E1 psi_1'\u001b[0m\u001b[1;33m)\u001b[0m\u001b[1;33m\u001b[0m\u001b[1;33m\u001b[0m\u001b[0m\n\u001b[1;32m----> 6\u001b[1;33m \u001b[0mplt\u001b[0m\u001b[1;33m.\u001b[0m\u001b[0mxlable\u001b[0m \u001b[1;33m(\u001b[0m\u001b[1;34m\"position (atomic units)\"\u001b[0m\u001b[1;33m)\u001b[0m\u001b[1;33m\u001b[0m\u001b[1;33m\u001b[0m\u001b[0m\n\u001b[0m\u001b[0;32m      7\u001b[0m \u001b[0mplt\u001b[0m\u001b[1;33m.\u001b[0m\u001b[0mlegend\u001b[0m\u001b[1;33m(\u001b[0m\u001b[1;33m)\u001b[0m\u001b[1;33m\u001b[0m\u001b[1;33m\u001b[0m\u001b[0m\n\u001b[0;32m      8\u001b[0m \u001b[0mplt\u001b[0m\u001b[1;33m.\u001b[0m\u001b[0mxlim\u001b[0m\u001b[1;33m(\u001b[0m\u001b[1;36m0\u001b[0m\u001b[1;33m,\u001b[0m\u001b[0mL\u001b[0m\u001b[1;33m)\u001b[0m\u001b[1;33m\u001b[0m\u001b[1;33m\u001b[0m\u001b[0m\n",
      "\u001b[1;31mAttributeError\u001b[0m: module 'matplotlib.pyplot' has no attribute 'xlable'"
     ]
    },
    {
     "data": {
      "image/png": "[encoded data removed]",
      "text/plain": [
       "<Figure size 432x288 with 1 Axes>"
      ]
     },
     "metadata": {
      "needs_background": "light"
     },
     "output_type": "display_data"
    }
   ],
   "source": [
    "Hp_on_psi = H_on_psi_x + 1/2. * psi_x  * x\n",
    "\n",
    "H_on_psi_x = np.pi**2/(2*L**2) * psi_x\n",
    "plt.plot(x, psi_x, 'red' , label='psi_1')\n",
    "plt.plot(x, H_on_psi_x, 'blue' , label='E1 psi_1')\n",
    "plt.xlable (\"position (atomic units)\")\n",
    "plt.legend()\n",
    "plt.xlim(0,L)\n",
    "plt. show()\n"
   ]
  },
  {
   "cell_type": "code",
   "execution_count": null,
   "metadata": {},
   "outputs": [],
   "source": []
  }
 ],
 "metadata": {
  "kernelspec": {
   "display_name": "Python 3",
   "language": "python",
   "name": "python3"
  },
  "language_info": {
   "codemirror_mode": {
    "name": "ipython",
    "version": 3
   },
   "file_extension": ".py",
   "mimetype": "text/x-python",
   "name": "python",
   "nbconvert_exporter": "python",
   "pygments_lexer": "ipython3",
   "version": "3.7.1"
  }
 },
 "nbformat": 4,
 "nbformat_minor": 2
}
